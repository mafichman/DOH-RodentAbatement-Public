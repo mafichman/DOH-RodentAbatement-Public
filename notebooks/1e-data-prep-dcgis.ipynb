{
 "cells": [
  {
   "cell_type": "code",
   "execution_count": 1,
   "metadata": {
    "collapsed": true
   },
   "outputs": [],
   "source": [
    "import time\n",
    "import pandas as pd\n",
    "import numpy as np\n",
    "\n",
    "import geopandas as gpd\n",
    "from shapely.geometry import Point, Polygon\n",
    "\n",
    "import warnings\n",
    "warnings.filterwarnings('ignore')\n",
    "\n",
    "import datetime as dt \n",
    "today = dt.datetime.today()"
   ]
  },
  {
   "cell_type": "code",
   "execution_count": 2,
   "metadata": {},
   "outputs": [
    {
     "name": "stdout",
     "output_type": "stream",
     "text": [
      "Number of Census blocks: 6507\n"
     ]
    }
   ],
   "source": [
    "blocks = gpd.read_file('data/Census_Blocks__2010.geojson')\n",
    "blocks = blocks[['GEOID', 'BLOCK', 'BLKGRP', 'P0010001', 'SqMiles', 'geometry']]\n",
    "blks = blocks.set_index('GEOID')\n",
    "print(\"Number of Census blocks: \"+str(blocks.shape[0]))"
   ]
  },
  {
   "cell_type": "markdown",
   "metadata": {},
   "source": [
    "## Parks"
   ]
  },
  {
   "cell_type": "code",
   "execution_count": 3,
   "metadata": {},
   "outputs": [
    {
     "name": "stdout",
     "output_type": "stream",
     "text": [
      "--2018-07-11 21:05:51--  https://opendata.arcgis.com/datasets/287eaa2ecbff4d699762bbc6795ffdca_9.geojson\n",
      "Resolving opendata.arcgis.com (opendata.arcgis.com)... 52.5.5.235, 52.1.111.28\n",
      "Connecting to opendata.arcgis.com (opendata.arcgis.com)|52.5.5.235|:443... connected.\n",
      "HTTP request sent, awaiting response... 200 OK\n",
      "Length: unspecified [application/json]\n",
      "Saving to: ‘287eaa2ecbff4d699762bbc6795ffdca_9.geojson’\n",
      "\n",
      "287eaa2ecbff4d69976     [ <=>                ] 567.32K  --.-KB/s    in 0.03s   \n",
      "\n",
      "2018-07-11 21:05:51 (20.2 MB/s) - ‘287eaa2ecbff4d699762bbc6795ffdca_9.geojson’ saved [580933]\n",
      "\n"
     ]
    }
   ],
   "source": [
    "!wget https://opendata.arcgis.com/datasets/287eaa2ecbff4d699762bbc6795ffdca_9.geojson\n",
    "!mv 287eaa2ecbff4d699762bbc6795ffdca_9.geojson data/Parks_and_Recreation_Areas.geojson"
   ]
  },
  {
   "cell_type": "markdown",
   "metadata": {},
   "source": [
    "### Pull and recode data"
   ]
  },
  {
   "cell_type": "code",
   "execution_count": 4,
   "metadata": {
    "scrolled": true
   },
   "outputs": [],
   "source": [
    "dcgeo = gpd.read_file('data/Parks_and_Recreation_Areas.geojson')\n",
    "cols = ['NAME', 'ACTIVE', 'DMPSTR', 'DRINKFOUNT', 'FENCE', 'PLYGRD', 'OUTSWIM', 'TOPO', 'VSTRSHCAN', 'WOODLAND', 'geometry']\n",
    "dcgeo = dcgeo[cols]\n",
    "dcgeo['park'] = dcgeo.ACTIVE.map({'Y': 1})\n",
    "dcgeo['park_dumpster'] = pd.to_numeric(dcgeo.DMPSTR)\n",
    "dcgeo['park_drinkfount'] = pd.to_numeric(dcgeo.DRINKFOUNT)\n",
    "dcgeo['park_playground'] = pd.to_numeric(dcgeo.PLYGRD)\n",
    "dcgeo['park_outdoorpool'] = pd.to_numeric(dcgeo.OUTSWIM)\n",
    "dcgeo['park_trashcan'] = pd.to_numeric(dcgeo.VSTRSHCAN)\n",
    "dcgeo['park_woodland'] = dcgeo.WOODLAND.map({'Y': 1})\n",
    "dcgeo = dcgeo.drop(['NAME', 'ACTIVE', 'DMPSTR', 'DRINKFOUNT', 'FENCE', 'PLYGRD', 'OUTSWIM', 'TOPO', 'VSTRSHCAN', 'WOODLAND'], axis=1)"
   ]
  },
  {
   "cell_type": "code",
   "execution_count": 5,
   "metadata": {},
   "outputs": [
    {
     "name": "stdout",
     "output_type": "stream",
     "text": [
      "Started spatial join at Wed, 11 Jul 2018 21:05:53 +0000\n",
      "Finished spatial join at Wed, 11 Jul 2018 21:05:54 +0000\n"
     ]
    }
   ],
   "source": [
    "## Spatial join points to Census block polygons\n",
    "print ('Started spatial join at '+time.strftime(\"%a, %d %b %Y %H:%M:%S +0000\", time.localtime()) )\n",
    "geo_df = gpd.sjoin(blocks, dcgeo, how='left', op='intersects')\n",
    "print ('Finished spatial join at '+time.strftime(\"%a, %d %b %Y %H:%M:%S +0000\", time.localtime()) )"
   ]
  },
  {
   "cell_type": "code",
   "execution_count": 6,
   "metadata": {
    "collapsed": true
   },
   "outputs": [],
   "source": [
    "## Aggregate to single unique Census block (GEOID)\n",
    "cols = dcgeo.drop(['geometry'], axis=1).columns\n",
    "data = geo_df.groupby('GEOID')[cols].sum()\n",
    "blks = blks.merge(data, how='left', left_index=True, right_index=True)"
   ]
  },
  {
   "cell_type": "markdown",
   "metadata": {},
   "source": [
    "## Impervious Surfaces"
   ]
  },
  {
   "cell_type": "code",
   "execution_count": 7,
   "metadata": {
    "collapsed": true
   },
   "outputs": [],
   "source": [
    "dcgeo = pd.read_csv('data/impervious_surfaces.csv.gz').set_index('GEOID')\n",
    "dcgeo.index = dcgeo.index.astype('str')\n",
    "blks = blks.merge(dcgeo, how='left', left_index=True, right_index=True)"
   ]
  },
  {
   "cell_type": "markdown",
   "metadata": {
    "collapsed": true
   },
   "source": [
    "## Community Gardens"
   ]
  },
  {
   "cell_type": "code",
   "execution_count": 8,
   "metadata": {},
   "outputs": [
    {
     "name": "stdout",
     "output_type": "stream",
     "text": [
      "--2018-07-11 21:05:55--  https://opendata.arcgis.com/datasets/a82537b01c2141558ba5e9e13224d395_4.geojson\n",
      "Resolving opendata.arcgis.com (opendata.arcgis.com)... 52.1.111.28, 52.5.5.235\n",
      "Connecting to opendata.arcgis.com (opendata.arcgis.com)|52.1.111.28|:443... connected.\n",
      "HTTP request sent, awaiting response... 200 OK\n",
      "Length: unspecified [application/json]\n",
      "Saving to: ‘a82537b01c2141558ba5e9e13224d395_4.geojson’\n",
      "\n",
      "a82537b01c2141558ba     [ <=>                ]  54.91K  --.-KB/s    in 0.007s  \n",
      "\n",
      "2018-07-11 21:05:55 (7.81 MB/s) - ‘a82537b01c2141558ba5e9e13224d395_4.geojson’ saved [56230]\n",
      "\n"
     ]
    }
   ],
   "source": [
    "!wget https://opendata.arcgis.com/datasets/a82537b01c2141558ba5e9e13224d395_4.geojson\n",
    "!mv a82537b01c2141558ba5e9e13224d395_4.geojson data/Community_Gardens.geojson"
   ]
  },
  {
   "cell_type": "code",
   "execution_count": 9,
   "metadata": {},
   "outputs": [
    {
     "name": "stdout",
     "output_type": "stream",
     "text": [
      "Started pulling data at Wed, 11 Jul 2018 21:05:56 +0000\n",
      "Finished pulling data at Wed, 11 Jul 2018 21:05:56 +0000\n"
     ]
    }
   ],
   "source": [
    "print ('Started pulling data at '+time.strftime(\"%a, %d %b %Y %H:%M:%S +0000\", time.localtime()) )\n",
    "dcgeo = gpd.read_file('data/Community_Gardens.geojson')\n",
    "dcgeo = dcgeo[dcgeo.geometry.isnull()==False]\n",
    "print ('Finished pulling data at '+time.strftime(\"%a, %d %b %Y %H:%M:%S +0000\", time.localtime()) )\n",
    "dcgeo = dcgeo[['OBJECTID', 'SHAPE_Area', 'geometry']]\n",
    "dcgeo.columns = ['communitygarden_id', 'communitygarden_area', 'geometry']"
   ]
  },
  {
   "cell_type": "code",
   "execution_count": 10,
   "metadata": {},
   "outputs": [
    {
     "name": "stdout",
     "output_type": "stream",
     "text": [
      "Started spatial join at Wed, 11 Jul 2018 21:05:56 +0000\n",
      "Finished spatial join at Wed, 11 Jul 2018 21:05:57 +0000\n"
     ]
    }
   ],
   "source": [
    "## Spatial join points to Census block polygons\n",
    "print ('Started spatial join at '+time.strftime(\"%a, %d %b %Y %H:%M:%S +0000\", time.localtime())) \n",
    "geo_df = gpd.sjoin(blocks, dcgeo, how='left', op='intersects')\n",
    "print ('Finished spatial join at '+time.strftime(\"%a, %d %b %Y %H:%M:%S +0000\", time.localtime())) "
   ]
  },
  {
   "cell_type": "code",
   "execution_count": 11,
   "metadata": {
    "collapsed": true
   },
   "outputs": [],
   "source": [
    "cols = dcgeo.drop(['geometry'], axis=1).columns\n",
    "data = geo_df.groupby('GEOID')[cols].sum()\n",
    "blks = blks.merge(data, how='left', left_index=True, right_index=True)"
   ]
  },
  {
   "cell_type": "markdown",
   "metadata": {},
   "source": [
    "## Well"
   ]
  },
  {
   "cell_type": "code",
   "execution_count": 12,
   "metadata": {},
   "outputs": [
    {
     "name": "stdout",
     "output_type": "stream",
     "text": [
      "--2018-07-11 21:05:58--  https://opendata.arcgis.com/datasets/84fdf39aaa3a4e75ba9e7a167577daa8_41.geojson\n",
      "Resolving opendata.arcgis.com (opendata.arcgis.com)... 52.5.5.235, 52.1.111.28\n",
      "Connecting to opendata.arcgis.com (opendata.arcgis.com)|52.5.5.235|:443... connected.\n",
      "HTTP request sent, awaiting response... 200 OK\n",
      "Length: unspecified [application/json]\n",
      "Saving to: ‘84fdf39aaa3a4e75ba9e7a167577daa8_41.geojson’\n",
      "\n",
      "84fdf39aaa3a4e75ba9     [ <=>                ] 906.49K  --.-KB/s    in 0.03s   \n",
      "\n",
      "2018-07-11 21:05:58 (25.7 MB/s) - ‘84fdf39aaa3a4e75ba9e7a167577daa8_41.geojson’ saved [928242]\n",
      "\n"
     ]
    }
   ],
   "source": [
    "!wget https://opendata.arcgis.com/datasets/84fdf39aaa3a4e75ba9e7a167577daa8_41.geojson\n",
    "!mv 84fdf39aaa3a4e75ba9e7a167577daa8_41.geojson data/DC_Well_Permits.geojson"
   ]
  },
  {
   "cell_type": "code",
   "execution_count": 13,
   "metadata": {},
   "outputs": [
    {
     "name": "stdout",
     "output_type": "stream",
     "text": [
      "Started pulling data at Wed, 11 Jul 2018 21:05:59 +0000\n",
      "Finished pulling data at Wed, 11 Jul 2018 21:05:59 +0000\n"
     ]
    }
   ],
   "source": [
    "print ('Started pulling data at '+time.strftime(\"%a, %d %b %Y %H:%M:%S +0000\", time.localtime()) )\n",
    "dcgeo = gpd.read_file('data/DC_Well_Permits.geojson')\n",
    "dcgeo = dcgeo[dcgeo.geometry.isnull()==False]\n",
    "print ('Finished pulling data at '+time.strftime(\"%a, %d %b %Y %H:%M:%S +0000\", time.localtime()) )\n",
    "dcgeo = dcgeo[['ESRI_OID', 'geometry']]\n",
    "dcgeo['well_activity'] = 1*(dcgeo['ESRI_OID'].isnull()==False)"
   ]
  },
  {
   "cell_type": "code",
   "execution_count": 14,
   "metadata": {},
   "outputs": [
    {
     "name": "stdout",
     "output_type": "stream",
     "text": [
      "Started spatial join at Wed, 11 Jul 2018 21:05:59 +0000\n",
      "Finished spatial join at Wed, 11 Jul 2018 21:06:00 +0000\n"
     ]
    }
   ],
   "source": [
    "## Spatial join points to Census block polygons\n",
    "print ('Started spatial join at '+time.strftime(\"%a, %d %b %Y %H:%M:%S +0000\", time.localtime()) )\n",
    "geo_df = gpd.sjoin(blocks, dcgeo, how='left', op='intersects')\n",
    "print ('Finished spatial join at '+time.strftime(\"%a, %d %b %Y %H:%M:%S +0000\", time.localtime()) )"
   ]
  },
  {
   "cell_type": "code",
   "execution_count": 15,
   "metadata": {
    "collapsed": true
   },
   "outputs": [],
   "source": [
    "cols = dcgeo.drop(['geometry'], axis=1).columns\n",
    "data = geo_df.groupby('GEOID')[cols].sum()\n",
    "blks = blks.merge(data, how='left', left_index=True, right_index=True)"
   ]
  },
  {
   "cell_type": "markdown",
   "metadata": {},
   "source": [
    "## Alley Maintenance Inventory"
   ]
  },
  {
   "cell_type": "code",
   "execution_count": 16,
   "metadata": {},
   "outputs": [
    {
     "name": "stdout",
     "output_type": "stream",
     "text": [
      "--2018-07-11 21:06:01--  https://opendata.arcgis.com/datasets/a71e92b9ffa14362999f6b4a4c89f66b_10.geojson\n",
      "Resolving opendata.arcgis.com (opendata.arcgis.com)... 52.1.111.28, 52.5.5.235\n",
      "Connecting to opendata.arcgis.com (opendata.arcgis.com)|52.1.111.28|:443... connected.\n",
      "HTTP request sent, awaiting response... 200 OK\n",
      "Length: unspecified [application/json]\n",
      "Saving to: ‘a71e92b9ffa14362999f6b4a4c89f66b_10.geojson’\n",
      "\n",
      "a71e92b9ffa14362999     [ <=>                ]  10.00M  --.-KB/s    in 0.1s    \n",
      "\n",
      "2018-07-11 21:06:02 (69.6 MB/s) - ‘a71e92b9ffa14362999f6b4a4c89f66b_10.geojson’ saved [10485542]\n",
      "\n"
     ]
    }
   ],
   "source": [
    "!wget https://opendata.arcgis.com/datasets/a71e92b9ffa14362999f6b4a4c89f66b_10.geojson\n",
    "!mv a71e92b9ffa14362999f6b4a4c89f66b_10.geojson data/Alley_Maintenance_Inventory.geojson"
   ]
  },
  {
   "cell_type": "code",
   "execution_count": 17,
   "metadata": {},
   "outputs": [
    {
     "name": "stdout",
     "output_type": "stream",
     "text": [
      "Started pulling data at Wed, 11 Jul 2018 21:06:03 +0000\n",
      "Finished pulling data at Wed, 11 Jul 2018 21:06:05 +0000\n"
     ]
    }
   ],
   "source": [
    "print ('Started pulling data at '+time.strftime(\"%a, %d %b %Y %H:%M:%S +0000\", time.localtime())) \n",
    "dcgeo = gpd.read_file('data/Alley_Maintenance_Inventory.geojson')\n",
    "dcgeo = dcgeo[dcgeo.geometry.isnull()==False]\n",
    "dcgeo = dcgeo[dcgeo.ALLEY_ID.isnull()==False]\n",
    "print ('Finished pulling data at '+time.strftime(\"%a, %d %b %Y %H:%M:%S +0000\", time.localtime()) )"
   ]
  },
  {
   "cell_type": "code",
   "execution_count": 18,
   "metadata": {
    "collapsed": true
   },
   "outputs": [],
   "source": [
    "dcgeo = dcgeo[['CATCH_BASINS', 'CONDITION', 'ENDMEASURE', 'HISTORIC', 'LENGTH', 'LOW_POINTS', 'MATERIAL',\n",
    "              'LIGHTS', 'geometry']]\n",
    "dcgeo.columns = ['alley_catchbasin', 'alley_condition', 'alley_endmeasure', 'alley_historic', \n",
    "                 'alley_length', 'alley_lowpoints', 'alley_material', 'alley_lights', 'geometry']"
   ]
  },
  {
   "cell_type": "code",
   "execution_count": 19,
   "metadata": {},
   "outputs": [
    {
     "name": "stdout",
     "output_type": "stream",
     "text": [
      "Started spatial join at Wed, 11 Jul 2018 21:06:05 +0000\n",
      "Finished spatial join at Wed, 11 Jul 2018 21:06:07 +0000\n"
     ]
    }
   ],
   "source": [
    "## Spatial join points to Census block polygons\n",
    "print ('Started spatial join at '+time.strftime(\"%a, %d %b %Y %H:%M:%S +0000\", time.localtime()) )\n",
    "geo_df = gpd.sjoin(blocks, dcgeo, how='left', op='intersects')\n",
    "print ('Finished spatial join at '+time.strftime(\"%a, %d %b %Y %H:%M:%S +0000\", time.localtime()) )"
   ]
  },
  {
   "cell_type": "code",
   "execution_count": 20,
   "metadata": {
    "collapsed": true
   },
   "outputs": [],
   "source": [
    "cols = dcgeo.drop(['geometry'], axis=1).columns\n",
    "data = geo_df.groupby('GEOID')[cols].sum()\n",
    "blks = blks.merge(data, how='left', left_index=True, right_index=True)"
   ]
  },
  {
   "cell_type": "markdown",
   "metadata": {},
   "source": [
    "## Sidewalk Grates"
   ]
  },
  {
   "cell_type": "code",
   "execution_count": 21,
   "metadata": {},
   "outputs": [
    {
     "name": "stdout",
     "output_type": "stream",
     "text": [
      "--2018-07-11 21:06:08--  https://opendata.arcgis.com/datasets/dabde2b2dc88453ea569c180f7305baa_5.geojson\n",
      "Resolving opendata.arcgis.com (opendata.arcgis.com)... 52.5.5.235, 52.1.111.28\n",
      "Connecting to opendata.arcgis.com (opendata.arcgis.com)|52.5.5.235|:443... connected.\n",
      "HTTP request sent, awaiting response... 200 OK\n",
      "Length: unspecified [application/json]\n",
      "Saving to: ‘dabde2b2dc88453ea569c180f7305baa_5.geojson’\n",
      "\n",
      "dabde2b2dc88453ea56     [ <=>                ]   2.58M  --.-KB/s    in 0.06s   \n",
      "\n",
      "2018-07-11 21:06:08 (43.7 MB/s) - ‘dabde2b2dc88453ea569c180f7305baa_5.geojson’ saved [2710030]\n",
      "\n"
     ]
    }
   ],
   "source": [
    "!wget https://opendata.arcgis.com/datasets/dabde2b2dc88453ea569c180f7305baa_5.geojson\n",
    "!mv dabde2b2dc88453ea569c180f7305baa_5.geojson data/Sidewalk_Grates.geojson"
   ]
  },
  {
   "cell_type": "code",
   "execution_count": 22,
   "metadata": {},
   "outputs": [
    {
     "name": "stdout",
     "output_type": "stream",
     "text": [
      "Started pulling data at Wed, 11 Jul 2018 21:06:09 +0000\n",
      "Finished pulling data at Wed, 11 Jul 2018 21:06:10 +0000\n"
     ]
    }
   ],
   "source": [
    "print ('Started pulling data at '+time.strftime(\"%a, %d %b %Y %H:%M:%S +0000\", time.localtime()) )\n",
    "dcgeo = gpd.read_file('data/Sidewalk_Grates.geojson')\n",
    "dcgeo = dcgeo[dcgeo.geometry.isnull()==False]\n",
    "print ('Finished pulling data at '+time.strftime(\"%a, %d %b %Y %H:%M:%S +0000\", time.localtime()) )\n",
    "dcgeo = dcgeo[['CAPTUREACTION', 'geometry']]\n",
    "dcgeo['sidewalk_grates'] = 1*(dcgeo.CAPTUREACTION.isnull()==False)\n",
    "dcgeo = dcgeo.drop('CAPTUREACTION', axis=1)"
   ]
  },
  {
   "cell_type": "code",
   "execution_count": 23,
   "metadata": {},
   "outputs": [
    {
     "name": "stdout",
     "output_type": "stream",
     "text": [
      "Started spatial join at Wed, 11 Jul 2018 21:06:10 +0000\n",
      "Finished spatial join at Wed, 11 Jul 2018 21:06:12 +0000\n"
     ]
    }
   ],
   "source": [
    "## Spatial join points to Census block polygons\n",
    "print ('Started spatial join at '+time.strftime(\"%a, %d %b %Y %H:%M:%S +0000\", time.localtime()) )\n",
    "geo_df = gpd.sjoin(blocks, dcgeo, how='left', op='intersects')\n",
    "print ('Finished spatial join at '+time.strftime(\"%a, %d %b %Y %H:%M:%S +0000\", time.localtime()) )"
   ]
  },
  {
   "cell_type": "code",
   "execution_count": 24,
   "metadata": {},
   "outputs": [
    {
     "data": {
      "text/plain": [
       "110010076051009    1\n",
       "110010022012004    1\n",
       "110010075022002    1\n",
       "110010095042017    1\n",
       "110010010012006    1\n",
       "Name: GEOID, dtype: int64"
      ]
     },
     "execution_count": 24,
     "metadata": {},
     "output_type": "execute_result"
    }
   ],
   "source": [
    "cols = dcgeo.drop(['geometry'], axis=1).columns\n",
    "data = geo_df.groupby('GEOID')[cols].sum()\n",
    "blks = blks.merge(data, how='left', left_index=True, right_index=True)\n",
    "blks = blks.drop(['BLOCK', 'BLKGRP', 'P0010001', 'SqMiles', 'geometry', 'ESRI_OID'], axis=1)\n",
    "blks.index.value_counts().head()"
   ]
  },
  {
   "cell_type": "markdown",
   "metadata": {
    "collapsed": true
   },
   "source": [
    "## Push to csv"
   ]
  },
  {
   "cell_type": "code",
   "execution_count": 25,
   "metadata": {
    "collapsed": true
   },
   "outputs": [],
   "source": [
    "blks.to_csv('data/env_features.csv.gz', compression = 'gzip')"
   ]
  }
 ],
 "metadata": {
  "anaconda-cloud": {},
  "kernelspec": {
   "display_name": "Python 3",
   "language": "python",
   "name": "python3"
  },
  "language_info": {
   "codemirror_mode": {
    "name": "ipython",
    "version": 3
   },
   "file_extension": ".py",
   "mimetype": "text/x-python",
   "name": "python",
   "nbconvert_exporter": "python",
   "pygments_lexer": "ipython3",
   "version": "3.6.3"
  }
 },
 "nbformat": 4,
 "nbformat_minor": 2
}
