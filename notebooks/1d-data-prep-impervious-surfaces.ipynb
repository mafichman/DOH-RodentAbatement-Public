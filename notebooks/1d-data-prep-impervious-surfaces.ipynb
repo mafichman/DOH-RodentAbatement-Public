{
 "cells": [
  {
   "cell_type": "code",
   "execution_count": 1,
   "metadata": {
    "collapsed": true
   },
   "outputs": [],
   "source": [
    "import time\n",
    "import pandas as pd\n",
    "import numpy as np\n",
    "\n",
    "import geopandas as gpd\n",
    "from shapely.geometry import Point, Polygon"
   ]
  },
  {
   "cell_type": "code",
   "execution_count": 2,
   "metadata": {
    "collapsed": true
   },
   "outputs": [],
   "source": [
    "blocks = gpd.read_file('data/Census_Blocks__2010.geojson')\n",
    "blocks.crs = {'init': 'epsg:4326'}\n",
    "blocks = blocks[['GEOID', 'BLOCK', 'BLKGRP', 'P0010001', 'SqMiles', 'geometry']]\n",
    "blks = blocks.set_index('GEOID')"
   ]
  },
  {
   "cell_type": "code",
   "execution_count": 3,
   "metadata": {},
   "outputs": [
    {
     "name": "stdout",
     "output_type": "stream",
     "text": [
      "Started pulling data at Tue, 10 Jul 2018 18:07:16 +0000\n",
      "Finished pulling data at Tue, 10 Jul 2018 18:07:51 +0000\n"
     ]
    }
   ],
   "source": [
    "## Impervious surfaces data can be found on opendata.dc.gov\n",
    "## Shape file loads more quickly than geojson in this case\n",
    "print ('Started pulling data at '+time.strftime(\"%a, %d %b %Y %H:%M:%S +0000\", time.localtime())) \n",
    "dcgeo = gpd.read_file('data/Impervious_Surface_2015.shp')\n",
    "dcgeo = dcgeo[dcgeo.geometry.isnull()==False]\n",
    "print ('Finished pulling data at '+time.strftime(\"%a, %d %b %Y %H:%M:%S +0000\", time.localtime())) \n",
    "dcgeo = dcgeo[['Shape_Area', 'geometry']]\n",
    "dcgeo.columns = ['impervious_area', 'geometry']"
   ]
  },
  {
   "cell_type": "code",
   "execution_count": 4,
   "metadata": {},
   "outputs": [
    {
     "name": "stdout",
     "output_type": "stream",
     "text": [
      "Started spatial join at Tue, 10 Jul 2018 18:07:51 +0000\n",
      "Finished spatial join at Tue, 10 Jul 2018 18:08:23 +0000\n"
     ]
    },
    {
     "data": {
      "text/html": [
       "<div>\n",
       "<style>\n",
       "    .dataframe thead tr:only-child th {\n",
       "        text-align: right;\n",
       "    }\n",
       "\n",
       "    .dataframe thead th {\n",
       "        text-align: left;\n",
       "    }\n",
       "\n",
       "    .dataframe tbody tr th {\n",
       "        vertical-align: top;\n",
       "    }\n",
       "</style>\n",
       "<table border=\"1\" class=\"dataframe\">\n",
       "  <thead>\n",
       "    <tr style=\"text-align: right;\">\n",
       "      <th></th>\n",
       "      <th>GEOID</th>\n",
       "      <th>BLOCK</th>\n",
       "      <th>BLKGRP</th>\n",
       "      <th>P0010001</th>\n",
       "      <th>SqMiles</th>\n",
       "      <th>geometry</th>\n",
       "      <th>index_right</th>\n",
       "      <th>impervious_area</th>\n",
       "    </tr>\n",
       "  </thead>\n",
       "  <tbody>\n",
       "    <tr>\n",
       "      <th>0</th>\n",
       "      <td>110010003003006</td>\n",
       "      <td>3006</td>\n",
       "      <td>0003003</td>\n",
       "      <td>251</td>\n",
       "      <td>0.038968</td>\n",
       "      <td>POLYGON ((-77.07863030944546 38.9161507873491,...</td>\n",
       "      <td>185921.0</td>\n",
       "      <td>258.786174</td>\n",
       "    </tr>\n",
       "    <tr>\n",
       "      <th>0</th>\n",
       "      <td>110010003003006</td>\n",
       "      <td>3006</td>\n",
       "      <td>0003003</td>\n",
       "      <td>251</td>\n",
       "      <td>0.038968</td>\n",
       "      <td>POLYGON ((-77.07863030944546 38.9161507873491,...</td>\n",
       "      <td>80608.0</td>\n",
       "      <td>103.488579</td>\n",
       "    </tr>\n",
       "    <tr>\n",
       "      <th>0</th>\n",
       "      <td>110010003003006</td>\n",
       "      <td>3006</td>\n",
       "      <td>0003003</td>\n",
       "      <td>251</td>\n",
       "      <td>0.038968</td>\n",
       "      <td>POLYGON ((-77.07863030944546 38.9161507873491,...</td>\n",
       "      <td>80595.0</td>\n",
       "      <td>107.885565</td>\n",
       "    </tr>\n",
       "    <tr>\n",
       "      <th>0</th>\n",
       "      <td>110010003003006</td>\n",
       "      <td>3006</td>\n",
       "      <td>0003003</td>\n",
       "      <td>251</td>\n",
       "      <td>0.038968</td>\n",
       "      <td>POLYGON ((-77.07863030944546 38.9161507873491,...</td>\n",
       "      <td>80562.0</td>\n",
       "      <td>106.859075</td>\n",
       "    </tr>\n",
       "    <tr>\n",
       "      <th>0</th>\n",
       "      <td>110010003003006</td>\n",
       "      <td>3006</td>\n",
       "      <td>0003003</td>\n",
       "      <td>251</td>\n",
       "      <td>0.038968</td>\n",
       "      <td>POLYGON ((-77.07863030944546 38.9161507873491,...</td>\n",
       "      <td>80549.0</td>\n",
       "      <td>115.629443</td>\n",
       "    </tr>\n",
       "  </tbody>\n",
       "</table>\n",
       "</div>"
      ],
      "text/plain": [
       "             GEOID BLOCK   BLKGRP  P0010001   SqMiles  \\\n",
       "0  110010003003006  3006  0003003       251  0.038968   \n",
       "0  110010003003006  3006  0003003       251  0.038968   \n",
       "0  110010003003006  3006  0003003       251  0.038968   \n",
       "0  110010003003006  3006  0003003       251  0.038968   \n",
       "0  110010003003006  3006  0003003       251  0.038968   \n",
       "\n",
       "                                            geometry  index_right  \\\n",
       "0  POLYGON ((-77.07863030944546 38.9161507873491,...     185921.0   \n",
       "0  POLYGON ((-77.07863030944546 38.9161507873491,...      80608.0   \n",
       "0  POLYGON ((-77.07863030944546 38.9161507873491,...      80595.0   \n",
       "0  POLYGON ((-77.07863030944546 38.9161507873491,...      80562.0   \n",
       "0  POLYGON ((-77.07863030944546 38.9161507873491,...      80549.0   \n",
       "\n",
       "   impervious_area  \n",
       "0       258.786174  \n",
       "0       103.488579  \n",
       "0       107.885565  \n",
       "0       106.859075  \n",
       "0       115.629443  "
      ]
     },
     "execution_count": 4,
     "metadata": {},
     "output_type": "execute_result"
    }
   ],
   "source": [
    "## Spatial join 311 data points to Census block polygons\n",
    "print ('Started spatial join at '+time.strftime(\"%a, %d %b %Y %H:%M:%S +0000\", time.localtime())) \n",
    "geo_df = gpd.sjoin(blocks, dcgeo, how='left', op='intersects')\n",
    "print ('Finished spatial join at '+time.strftime(\"%a, %d %b %Y %H:%M:%S +0000\", time.localtime())) \n",
    "geo_df.head()"
   ]
  },
  {
   "cell_type": "code",
   "execution_count": 5,
   "metadata": {
    "collapsed": true
   },
   "outputs": [],
   "source": [
    "cols = dcgeo.drop(['geometry'], axis=1).columns\n",
    "data = geo_df.groupby('GEOID')[cols].sum()\n",
    "blks = blks.merge(data, how='left', left_index=True, right_index=True)"
   ]
  },
  {
   "cell_type": "code",
   "execution_count": 6,
   "metadata": {},
   "outputs": [
    {
     "data": {
      "text/plain": [
       "110010095053005    1\n",
       "110010062021158    1\n",
       "110010077091004    1\n",
       "110010047021002    1\n",
       "110010077072025    1\n",
       "Name: GEOID, dtype: int64"
      ]
     },
     "execution_count": 6,
     "metadata": {},
     "output_type": "execute_result"
    }
   ],
   "source": [
    "blks.index.value_counts().head()"
   ]
  },
  {
   "cell_type": "code",
   "execution_count": 7,
   "metadata": {
    "collapsed": true
   },
   "outputs": [],
   "source": [
    "blks = blks.drop(['BLOCK', 'BLKGRP', 'P0010001', 'SqMiles', 'geometry'], axis=1)"
   ]
  },
  {
   "cell_type": "code",
   "execution_count": 8,
   "metadata": {
    "collapsed": true
   },
   "outputs": [],
   "source": [
    "blks.to_csv('data/impervious_surfaces.csv.gz', compression = 'gzip')"
   ]
  }
 ],
 "metadata": {
  "kernelspec": {
   "display_name": "Python 3",
   "language": "python",
   "name": "python3"
  },
  "language_info": {
   "codemirror_mode": {
    "name": "ipython",
    "version": 3
   },
   "file_extension": ".py",
   "mimetype": "text/x-python",
   "name": "python",
   "nbconvert_exporter": "python",
   "pygments_lexer": "ipython3",
   "version": "3.6.3"
  }
 },
 "nbformat": 4,
 "nbformat_minor": 2
}
