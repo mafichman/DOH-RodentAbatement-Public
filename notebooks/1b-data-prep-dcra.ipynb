{
 "cells": [
  {
   "cell_type": "code",
   "execution_count": 1,
   "metadata": {},
   "outputs": [
    {
     "name": "stdout",
     "output_type": "stream",
     "text": [
      "2018/07/11\n"
     ]
    }
   ],
   "source": [
    "import time\n",
    "import pandas as pd\n",
    "import numpy as np\n",
    "\n",
    "import geopandas as gpd\n",
    "from shapely.geometry import Point, Polygon\n",
    "\n",
    "import warnings\n",
    "warnings.filterwarnings('ignore')\n",
    "\n",
    "import yaml\n",
    "with open('config.yml') as f:\n",
    "    config = yaml.load(f)\n",
    "\n",
    "dwp = config['dcsedwp']\n",
    "dcgis = config['dcgisprd']\n",
    "\n",
    "import datetime as dt     \n",
    "date = dt.datetime.today().strftime(\"%Y/%m/%d\")\n",
    "print(date)"
   ]
  },
  {
   "cell_type": "markdown",
   "metadata": {},
   "source": [
    "#### Connect to DC Data Warehouse "
   ]
  },
  {
   "cell_type": "code",
   "execution_count": 2,
   "metadata": {
    "collapsed": true
   },
   "outputs": [],
   "source": [
    "import cx_Oracle\n",
    "dsn_tns = cx_Oracle.makedsn(dwp['host'], dwp['port'], service_name=dwp['service_name'])\n",
    "dcsedwp = cx_Oracle.connect(dwp['username'], dwp['password'], dsn_tns)"
   ]
  },
  {
   "cell_type": "markdown",
   "metadata": {},
   "source": [
    "#### Connect to DC GIS"
   ]
  },
  {
   "cell_type": "code",
   "execution_count": 3,
   "metadata": {
    "collapsed": true
   },
   "outputs": [],
   "source": [
    "import cx_Oracle\n",
    "dsn_tns = cx_Oracle.makedsn(dcgis['host'], dcgis['port'], service_name=dcgis['service_name'])\n",
    "dcgisprd = cx_Oracle.connect(dcgis['username'], dcgis['password'], dsn_tns)"
   ]
  },
  {
   "cell_type": "markdown",
   "metadata": {},
   "source": [
    "## Pull Census Block Data"
   ]
  },
  {
   "cell_type": "code",
   "execution_count": 4,
   "metadata": {
    "collapsed": true
   },
   "outputs": [],
   "source": [
    "blocks = gpd.read_file('data/Census_Blocks__2010.geojson')\n",
    "blocks = blocks[['GEOID', 'BLOCK', 'BLKGRP', 'P0010001', 'SqMiles', 'ACRES', 'geometry']]"
   ]
  },
  {
   "cell_type": "code",
   "execution_count": 5,
   "metadata": {
    "collapsed": true
   },
   "outputs": [],
   "source": [
    "blks = blocks[['GEOID', 'P0010001', 'SqMiles']].set_index('GEOID')\n",
    "blks['pop_density'] = blks['P0010001']*1.0/blks['SqMiles']\n",
    "blks['tot_pop'] = blks['P0010001']\n",
    "blks = blks.drop(['P0010001', 'SqMiles'], axis=1)"
   ]
  },
  {
   "cell_type": "markdown",
   "metadata": {},
   "source": [
    "## DCRA Data"
   ]
  },
  {
   "cell_type": "markdown",
   "metadata": {},
   "source": [
    "### Pull DCRA BBL Data"
   ]
  },
  {
   "cell_type": "code",
   "execution_count": 6,
   "metadata": {},
   "outputs": [
    {
     "name": "stdout",
     "output_type": "stream",
     "text": [
      "Started pulling data at Wed, 11 Jul 2018 21:18:40 +0000\n",
      "Finished pulling data at Wed, 11 Jul 2018 21:18:53 +0000\n"
     ]
    }
   ],
   "source": [
    "print('Started pulling data at '+time.strftime(\"%a, %d %b %Y %H:%M:%S +0000\", time.localtime()))\n",
    "bbl = pd.read_sql('''\n",
    "select \n",
    "    OBJECTID,\n",
    "    BBL_LICENSE_FACT_ID,\n",
    "    LICENSESTATUS,\n",
    "    LICENSECATEGORY,\n",
    "    LICENSE_START_DATE,\n",
    "    LICENSE_EXPIRATION_DATE,\n",
    "    LICENSE_ISSUE_DATE,\n",
    "    LASTMODIFIEDDATE,\n",
    "    SITEADDRESS,\n",
    "    LATITUDE,\n",
    "    LONGITUDE,\n",
    "    XCOORD,\n",
    "    YCOORD,\n",
    "    ZIPCODE,\n",
    "    MARADDRESSREPOSITORYID\n",
    "from DCRA_DATA.BASICBUSINESSLICENSEPT\n",
    "where license_start_date <= TO_DATE(\\''''+date+'''\\', 'YYYY/MM/DD')\n",
    "and license_start_date IS NOT NULL\n",
    "''', dcgisprd)\n",
    "print('Finished pulling data at '+time.strftime(\"%a, %d %b %Y %H:%M:%S +0000\", time.localtime()))"
   ]
  },
  {
   "cell_type": "code",
   "execution_count": 7,
   "metadata": {
    "collapsed": true
   },
   "outputs": [],
   "source": [
    "licenses = {\n",
    "'Ambulance':'other'\n",
    ",'Apartment':'multifamily_rental'\n",
    ",'Asbestos Business':'other'\n",
    ",'Athletic Exhibition':'other'\n",
    ",'Auction Sale':'other'\n",
    ",'Auction Sale DPW MPD':'other'\n",
    ",'Auction Sales Temporary':'other'\n",
    ",'Auctioneer':'other'\n",
    ",'Auctioneer DC':'other'\n",
    ",'Auctioneer Temporary':'other'\n",
    ",'Auto Rental':'other'\n",
    ",'Auto Wash':'water'\n",
    ",'Automobile Repossessor':'other'\n",
    ",'Automobile Repossessor - Bus':'other'\n",
    ",'Bakery':'food'\n",
    ",'Barber Chair':'other'\n",
    ",'Barber Shop':'other'\n",
    ",'Beauty Booth':'other'\n",
    ",'Beauty Shop':'other'\n",
    ",'Beauty Shop Braiding':'other'\n",
    ",'Beauty Shop Electrology':'other'\n",
    ",'Beauty Shop Esthetics':'other'\n",
    ",'Beauty Shop Nails':'other'\n",
    ",'Bed and Breakfast':'hotel'\n",
    ",'Billiard Parlor':'other'\n",
    ",'Boarding House':'hotel'\n",
    ",'Bowling Alley':'other'\n",
    ",'Bulk Fuel Above Ground Tank':'other'\n",
    ",'Bulk Fuel Storage Plant':'other'\n",
    ",'Candy Manufacturing':'food'\n",
    ",'Carnival and Fair':'other'\n",
    ",'Caterers':'food'\n",
    ",'Charitable Exempt':'other'\n",
    ",'Charitable Solicitation':'other'\n",
    ",'Cigarette Retail':'other'\n",
    ",'Cigarette Wholesale':'other'\n",
    ",'Circus':'animals'\n",
    ",'Commission Merchant Food':'food'\n",
    ",'Consumer Goods (Auto Repair)':'other'\n",
    ",'Consumer Goods (Elect Repair)':'other'\n",
    ",'Cooperative Association':'other'\n",
    ",'Delicatessen':'food'\n",
    ",'Driving School':'other'\n",
    ",'Dry Cleaners':'other'\n",
    ",'Employer Paid Personnel Serv':'other'\n",
    ",'Employment Agency':'other'\n",
    ",'Employment Counseling':'other'\n",
    ",'Fireworks Sales':'other'\n",
    ",'Fireworks Sales Temp':'other'\n",
    ",'Fireworks Wholesale':'other'\n",
    ",'Food Products':'food'\n",
    ",'Food Vending Machine':'food'\n",
    ",'Funeral Establishment':'other'\n",
    ",'Gasoline Dealer':'gas'\n",
    ",'Gen Contr-Construction Mngr':'other'\n",
    ",'General Business Licenses':'other'\n",
    ",'Grocery Store':'food'\n",
    ",'Health Spa':'other'\n",
    ",'Health Spa Sales':'other'\n",
    ",'Home Improvement Contractor':'other'\n",
    ",'Home Improvement Salesman':'other'\n",
    ",'Horse Drawn Carriage Trade':'animals'\n",
    ",'Hotel':'hotel'\n",
    ",'Ice Cream Manufacture':'food'\n",
    ",'Inn And Motel':'hotel'\n",
    ",'Kerosene':'other'\n",
    ",'Marine Food Product Wholesale':'food'\n",
    ",'Marine Food Retail':'food'\n",
    ",'Massage Establishment':'other'\n",
    ",'Mattress Sale':'other'\n",
    ",'Mattress Storage':'other'\n",
    ",'Mechanical Amusement Machine':'other'\n",
    ",'Mobile Delicatessen':'other'\n",
    ",'Motion Picture Theatre':'other'\n",
    ",'Motor Vehicle Dealer':'other'\n",
    ",'Motor Vehicle Reinsp. Station':'other'\n",
    ",'Motor Vehicle Reinspector':'other'\n",
    ",'Motor Vehicle Salesman':'other'\n",
    ",'Moving And Storage':'storage'\n",
    ",'New and Used Tire Dealer':'other'\n",
    ",'One Family Rental':'single_family_rental'\n",
    ",'Outdoor Signs':'other'\n",
    ",'Parking Facility':'parking'\n",
    ",'Parking Facility Attendant':'parking'\n",
    ",'Patent Medicine':'other'\n",
    ",'Pawnbrokers':'other'\n",
    ",'Pesticide Applicator':'other'\n",
    ",'Pesticide Operator':'other'\n",
    ",'Pesticide Public Applicator':'other'\n",
    ",'Pesticide Public Operator':'other'\n",
    ",'Pet Shop':'animals'\n",
    ",'Power Laundry':'other'\n",
    ",'Public Hall':'other'\n",
    ",'Public School Cafeteria':'food'\n",
    ",'Pyroxylin':'other'\n",
    ",'Restaurant':'restaurant'\n",
    ",'Rooming House':'hotel'\n",
    ",'Secondhand Dealers (A)':'other'\n",
    ",'Secondhand Dealers (B)':'other'\n",
    ",'Secondhand Dealers (C)':'other'\n",
    ",'Secondhand Dealers (Temp)':'other'\n",
    ",'Security Agency (Firm)':'other'\n",
    ",'Security Agent (Person)':'other'\n",
    ",'Security Alarm Agent':'other'\n",
    ",'Security Alarm Dealer':'other'\n",
    ",'Solicitor':'other'\n",
    ",'Solid Waste Collection':'waste'\n",
    ",'Solid Waste Vehicle':'waste'\n",
    ",'Solvent Sales':'other'\n",
    ",'Special Events':'events'\n",
    ",'Swimming Pool':'pool'\n",
    ",'Swimming Pool DC':'pool'\n",
    ",'Theater (Live)':'other'\n",
    ",'Tow Truck':'other'\n",
    ",'Tow Truck Business':'other'\n",
    ",'Tow Truck Storage Lot':'other'\n",
    ",'Two Family Rental':'two_family_rental'\n",
    ",'Used Car Buyer Seller':'other'\n",
    ",'Used Car Lot':'other'\n",
    ",'Used Car Seller Only':'other'\n",
    ",'Valet Parking':'other'\n",
    ",'Varsol Sales':'other'\n",
    "}"
   ]
  },
  {
   "cell_type": "code",
   "execution_count": 8,
   "metadata": {
    "collapsed": true
   },
   "outputs": [],
   "source": [
    "bbl['license'] = bbl['LICENSECATEGORY'].map(licenses)\n",
    "license_dummies = pd.get_dummies(bbl.license, prefix='bbl').set_index(bbl.index)\n",
    "bbl = bbl.merge(license_dummies, how='left', left_index=True, right_index=True)\n",
    "bbl['bbl'] = 1"
   ]
  },
  {
   "cell_type": "code",
   "execution_count": 9,
   "metadata": {},
   "outputs": [
    {
     "name": "stdout",
     "output_type": "stream",
     "text": [
      "122143\n",
      "122143\n"
     ]
    }
   ],
   "source": [
    "print(len(bbl))\n",
    "bbl = bbl.drop_duplicates(['BBL_LICENSE_FACT_ID'])\n",
    "print(len(bbl))"
   ]
  },
  {
   "cell_type": "code",
   "execution_count": 10,
   "metadata": {
    "collapsed": true
   },
   "outputs": [],
   "source": [
    "## Create week, month, and year columns for dataframe\n",
    "bbl['license_start_date'] = pd.to_datetime(bbl.LICENSE_START_DATE)\n",
    "bbl['license_exp_date'] = pd.to_datetime(bbl.LICENSE_EXPIRATION_DATE)"
   ]
  },
  {
   "cell_type": "code",
   "execution_count": 11,
   "metadata": {
    "collapsed": true
   },
   "outputs": [],
   "source": [
    "## Create geometry for BBL\n",
    "geometry = [Point(xy) for xy in zip(bbl.LONGITUDE.apply(float), bbl.LATITUDE.apply(float))]\n",
    "crs = {'init': 'epsg:4326'}\n",
    "points = gpd.GeoDataFrame(bbl, crs=crs, geometry=geometry)"
   ]
  },
  {
   "cell_type": "code",
   "execution_count": 12,
   "metadata": {},
   "outputs": [
    {
     "name": "stdout",
     "output_type": "stream",
     "text": [
      "Started spatial join at Wed, 11 Jul 2018 21:18:55 +0000\n",
      "Finished spatial join at Wed, 11 Jul 2018 21:19:02 +0000\n"
     ]
    }
   ],
   "source": [
    "## Spatial join points to Census block polygons\n",
    "print('Started spatial join at '+time.strftime(\"%a, %d %b %Y %H:%M:%S +0000\", time.localtime()))\n",
    "points = points.reset_index()\n",
    "geo_bbl = gpd.sjoin(blocks, points, how='left', op='intersects')\n",
    "geo_bbl = geo_bbl[geo_bbl.license_start_date.notnull()]\n",
    "print('Finished spatial join at '+time.strftime(\"%a, %d %b %Y %H:%M:%S +0000\", time.localtime())) "
   ]
  },
  {
   "cell_type": "code",
   "execution_count": 13,
   "metadata": {
    "collapsed": true
   },
   "outputs": [],
   "source": [
    "geo_bbl.to_csv('data/bbls_to_blocks.csv.gz', compression = 'gzip')"
   ]
  },
  {
   "cell_type": "markdown",
   "metadata": {},
   "source": [
    "### Pull DCRA Building Permits"
   ]
  },
  {
   "cell_type": "code",
   "execution_count": 14,
   "metadata": {},
   "outputs": [
    {
     "name": "stdout",
     "output_type": "stream",
     "text": [
      "Started pulling data at Wed, 11 Jul 2018 21:19:44 +0000\n",
      "Finished pulling data at Wed, 11 Jul 2018 21:19:59 +0000\n"
     ]
    }
   ],
   "source": [
    "print('Started pulling data at '+time.strftime(\"%a, %d %b %Y %H:%M:%S +0000\", time.localtime()))\n",
    "df2 = pd.read_sql('''\n",
    "select \n",
    "    OBJECTID,\n",
    "    DCRAINTERNALNUMBER,\n",
    "    ISSUE_DATE,\n",
    "    PERMIT_ID,\n",
    "    PERMIT_TYPE_NAME,\n",
    "    PERMIT_SUBTYPE_NAME,\n",
    "    PERMIT_CATEGORY_NAME,\n",
    "    APPLICATION_STATUS_NAME,\n",
    "    FULL_ADDRESS,\n",
    "    ZONING,\n",
    "    LATITUDE,\n",
    "    LONGITUDE\n",
    "from DCRA_DATA.BUILDINGPERMITPT\n",
    "where ISSUE_DATE >= TO_DATE('2015-08-01', 'yyyy-mm-dd')\n",
    "and ISSUE_DATE < TO_DATE(\\''''+date+'''\\', 'yyyy-mm-dd')\n",
    "''', dcgisprd)\n",
    "print('Finished pulling data at '+time.strftime(\"%a, %d %b %Y %H:%M:%S +0000\", time.localtime()))"
   ]
  },
  {
   "cell_type": "code",
   "execution_count": 15,
   "metadata": {},
   "outputs": [
    {
     "name": "stdout",
     "output_type": "stream",
     "text": [
      "D1800361    1\n",
      "E1705731    1\n",
      "E1806349    1\n",
      "P1803775    1\n",
      "P1806342    1\n",
      "Name: PERMIT_ID, dtype: int64\n",
      "D1800361    1\n",
      "E1705731    1\n",
      "E1806349    1\n",
      "P1803775    1\n",
      "P1806342    1\n",
      "Name: PERMIT_ID, dtype: int64\n"
     ]
    }
   ],
   "source": [
    "print(df2.PERMIT_ID.value_counts().head())\n",
    "df2 = df2.drop_duplicates(['PERMIT_ID', 'ISSUE_DATE'])\n",
    "print(df2.PERMIT_ID.value_counts().head())"
   ]
  },
  {
   "cell_type": "code",
   "execution_count": 16,
   "metadata": {
    "collapsed": true
   },
   "outputs": [],
   "source": [
    "permits = df2.loc[df2.PERMIT_TYPE_NAME=='CONSTRUCTION']\n",
    "permits = permits.set_index(np.arange(0, permits.shape[0]))\n",
    "permits['issue_date'] = permits['ISSUE_DATE']\n",
    "permits['dcrapermit_new_building'] = 1*(permits.PERMIT_SUBTYPE_NAME=='NEW BUILDING')\n",
    "permits['dcrapermit_demolition'] = 1*(permits.PERMIT_SUBTYPE_NAME=='DEMOLITION')\n",
    "permits['dcrapermit_raze'] = 1*(permits.PERMIT_SUBTYPE_NAME=='RAZE')\n",
    "permits['dcrapermit_addition'] = 1*(permits.PERMIT_SUBTYPE_NAME=='ADDITION')\n",
    "permits['dcrapermit_retain_wall'] = 1*(permits.PERMIT_SUBTYPE_NAME=='RETAINING WALL')\n",
    "permits['dcrapermit_excavation'] = 1*(permits.PERMIT_SUBTYPE_NAME=='EXCAVATION ONLY')\n",
    "permits['dcrapermit_pool'] = 1*(permits.PERMIT_SUBTYPE_NAME=='SWIMMING POOL')\n",
    "permits['dcrapermit_garage'] = 1*(permits.PERMIT_SUBTYPE_NAME=='GARAGE')"
   ]
  },
  {
   "cell_type": "code",
   "execution_count": 17,
   "metadata": {},
   "outputs": [
    {
     "name": "stdout",
     "output_type": "stream",
     "text": [
      "Started spatial join at Wed, 11 Jul 2018 21:20:00 +0000\n",
      "Finished spatial join at Wed, 11 Jul 2018 21:20:03 +0000\n"
     ]
    }
   ],
   "source": [
    "## Create geometry for building permits\n",
    "geometry = [Point(xy) for xy in zip(permits.LONGITUDE.apply(float), permits.LATITUDE.apply(float))]\n",
    "crs = {'init': 'epsg:4326'}\n",
    "points = gpd.GeoDataFrame(permits, crs=crs, geometry=geometry)\n",
    "\n",
    "## Spatial join points to Census block polygons\n",
    "print('Started spatial join at '+time.strftime(\"%a, %d %b %Y %H:%M:%S +0000\", time.localtime()))\n",
    "points = points.reset_index()\n",
    "geo_permits = gpd.sjoin(blocks, points, how='left', op='intersects')\n",
    "geo_permits = geo_permits[geo_permits.issue_date.notnull()]\n",
    "print('Finished spatial join at '+time.strftime(\"%a, %d %b %Y %H:%M:%S +0000\", time.localtime())) "
   ]
  },
  {
   "cell_type": "code",
   "execution_count": 18,
   "metadata": {
    "collapsed": true
   },
   "outputs": [],
   "source": [
    "geo_permits.to_csv('data/permits_to_blocks.csv.gz', compression = 'gzip')"
   ]
  }
 ],
 "metadata": {
  "anaconda-cloud": {},
  "kernelspec": {
   "display_name": "Python 3",
   "language": "python",
   "name": "python3"
  },
  "language_info": {
   "codemirror_mode": {
    "name": "ipython",
    "version": 3
   },
   "file_extension": ".py",
   "mimetype": "text/x-python",
   "name": "python",
   "nbconvert_exporter": "python",
   "pygments_lexer": "ipython3",
   "version": "3.7.0"
  }
 },
 "nbformat": 4,
 "nbformat_minor": 2
}
