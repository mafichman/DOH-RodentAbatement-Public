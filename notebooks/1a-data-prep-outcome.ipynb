{
 "cells": [
  {
   "cell_type": "code",
   "execution_count": 1,
   "metadata": {
    "collapsed": true
   },
   "outputs": [],
   "source": [
    "import time\n",
    "import pandas as pd\n",
    "import numpy as np\n",
    "\n",
    "import geopandas as gpd\n",
    "from shapely.geometry import Point, Polygon\n",
    "\n",
    "import warnings\n",
    "warnings.filterwarnings('ignore')\n",
    "\n",
    "import yaml\n",
    "with open('config.yml') as f:\n",
    "    config = yaml.load(f)\n",
    "\n",
    "dwp = config['dcsedwp']\n",
    "dcgis = config['dcgisprd']"
   ]
  },
  {
   "cell_type": "code",
   "execution_count": 2,
   "metadata": {},
   "outputs": [
    {
     "name": "stdout",
     "output_type": "stream",
     "text": [
      "2018/07/11\n"
     ]
    }
   ],
   "source": [
    "import datetime as dt     \n",
    "date = dt.datetime.today().strftime(\"%Y/%m/%d\")\n",
    "print(date)"
   ]
  },
  {
   "cell_type": "markdown",
   "metadata": {},
   "source": [
    "#### Connect to DC Data Warehouse (location of 311 data)"
   ]
  },
  {
   "cell_type": "code",
   "execution_count": 3,
   "metadata": {
    "collapsed": true
   },
   "outputs": [],
   "source": [
    "import cx_Oracle\n",
    "dsn_tns = cx_Oracle.makedsn(dwp['host'], dwp['port'], service_name=dwp['service_name'])\n",
    "dcsedwp = cx_Oracle.connect(dwp['username'], dwp['password'], dsn_tns)"
   ]
  },
  {
   "cell_type": "markdown",
   "metadata": {},
   "source": [
    "### Get Census Blocks"
   ]
  },
  {
   "cell_type": "code",
   "execution_count": 4,
   "metadata": {
    "collapsed": true
   },
   "outputs": [],
   "source": [
    "blocks = gpd.read_file('data/Census_Blocks__2010.geojson')\n",
    "blocks = blocks[['GEOID', 'BLOCK', 'BLKGRP', 'P0010001', 'SqMiles', 'ACRES', 'geometry']]"
   ]
  },
  {
   "cell_type": "code",
   "execution_count": 5,
   "metadata": {
    "collapsed": true
   },
   "outputs": [],
   "source": [
    "blks = blocks[['GEOID', 'P0010001', 'SqMiles']].set_index('GEOID')\n",
    "blks['pop_density'] = blks['P0010001']*1.0/blks['SqMiles']\n",
    "blks['tot_pop'] = blks['P0010001']\n",
    "blks = blks.drop(['P0010001', 'SqMiles'], axis=1)"
   ]
  },
  {
   "cell_type": "markdown",
   "metadata": {},
   "source": [
    "#### Check most recent 311 data"
   ]
  },
  {
   "cell_type": "code",
   "execution_count": 6,
   "metadata": {},
   "outputs": [
    {
     "data": {
      "text/html": [
       "<div>\n",
       "<style scoped>\n",
       "    .dataframe tbody tr th:only-of-type {\n",
       "        vertical-align: middle;\n",
       "    }\n",
       "\n",
       "    .dataframe tbody tr th {\n",
       "        vertical-align: top;\n",
       "    }\n",
       "\n",
       "    .dataframe thead th {\n",
       "        text-align: right;\n",
       "    }\n",
       "</style>\n",
       "<table border=\"1\" class=\"dataframe\">\n",
       "  <thead>\n",
       "    <tr style=\"text-align: right;\">\n",
       "      <th></th>\n",
       "      <th>MAX(SERVICEORDERDATE)</th>\n",
       "    </tr>\n",
       "  </thead>\n",
       "  <tbody>\n",
       "    <tr>\n",
       "      <th>0</th>\n",
       "      <td>2018-07-08 20:08:06</td>\n",
       "    </tr>\n",
       "  </tbody>\n",
       "</table>\n",
       "</div>"
      ],
      "text/plain": [
       "  MAX(SERVICEORDERDATE)\n",
       "0   2018-07-08 20:08:06"
      ]
     },
     "execution_count": 6,
     "metadata": {},
     "output_type": "execute_result"
    }
   ],
   "source": [
    "pd.read_sql('''\n",
    "select \n",
    "max(serviceorderdate)\n",
    "from EDW_CIRM.VW_SERVICE_REQUESTS_DC_MSSQL\n",
    "where longitude is not null and latitude is not null\n",
    "and cast(longitude as float) < 0 and cast(latitude as float) > 0\n",
    "''', dcsedwp)"
   ]
  },
  {
   "cell_type": "markdown",
   "metadata": {},
   "source": [
    "#### Check Lat-Long Data"
   ]
  },
  {
   "cell_type": "code",
   "execution_count": 7,
   "metadata": {},
   "outputs": [
    {
     "data": {
      "text/html": [
       "<div>\n",
       "<style scoped>\n",
       "    .dataframe tbody tr th:only-of-type {\n",
       "        vertical-align: middle;\n",
       "    }\n",
       "\n",
       "    .dataframe tbody tr th {\n",
       "        vertical-align: top;\n",
       "    }\n",
       "\n",
       "    .dataframe thead th {\n",
       "        text-align: right;\n",
       "    }\n",
       "</style>\n",
       "<table border=\"1\" class=\"dataframe\">\n",
       "  <thead>\n",
       "    <tr style=\"text-align: right;\">\n",
       "      <th></th>\n",
       "      <th>AVG_LONG</th>\n",
       "      <th>MAX_LONG</th>\n",
       "      <th>MIN_LONG</th>\n",
       "      <th>AVG_LAT</th>\n",
       "      <th>MAX_LAT</th>\n",
       "      <th>MIN_LAT</th>\n",
       "    </tr>\n",
       "  </thead>\n",
       "  <tbody>\n",
       "    <tr>\n",
       "      <th>0</th>\n",
       "      <td>-77.013069</td>\n",
       "      <td>-76.909531</td>\n",
       "      <td>-77.114206</td>\n",
       "      <td>38.912211</td>\n",
       "      <td>38.99554</td>\n",
       "      <td>38.812739</td>\n",
       "    </tr>\n",
       "  </tbody>\n",
       "</table>\n",
       "</div>"
      ],
      "text/plain": [
       "    AVG_LONG   MAX_LONG   MIN_LONG    AVG_LAT   MAX_LAT    MIN_LAT\n",
       "0 -77.013069 -76.909531 -77.114206  38.912211  38.99554  38.812739"
      ]
     },
     "execution_count": 7,
     "metadata": {},
     "output_type": "execute_result"
    }
   ],
   "source": [
    "pd.read_sql('''\n",
    "select \n",
    "avg(longitude) as avg_long\n",
    ", max(longitude) as max_long\n",
    ", min(longitude) as min_long\n",
    ", avg(latitude) as avg_lat\n",
    ", max(latitude) as max_lat\n",
    ", min(latitude) as min_lat\n",
    "\n",
    "from EDW_CIRM.VW_SERVICE_REQUESTS_DC_MSSQL\n",
    "where longitude is not null and latitude is not null\n",
    "and serviceorderdate >= TO_DATE('2017-03-18', 'yyyy-mm-dd')\n",
    "\n",
    "''', dcsedwp)"
   ]
  },
  {
   "cell_type": "markdown",
   "metadata": {},
   "source": [
    "#### Pull Outcome Data"
   ]
  },
  {
   "cell_type": "code",
   "execution_count": 8,
   "metadata": {},
   "outputs": [
    {
     "name": "stdout",
     "output_type": "stream",
     "text": [
      "Started pulling data at Wed, 11 Jul 2018 20:16:47 +0000\n",
      "Finished pulling data at Wed, 11 Jul 2018 20:17:01 +0000\n"
     ]
    }
   ],
   "source": [
    "print('Started pulling data at '+time.strftime(\"%a, %d %b %Y %H:%M:%S +0000\", time.localtime()))  \n",
    "rats = pd.read_sql('''\n",
    "select \n",
    "sr_history_id\n",
    ", service_request_id__c\n",
    ", servicecode\n",
    ", servicecodedescription\n",
    ", serviceorderdate\n",
    ", serviceorderstatus\n",
    ", inspectiondate\n",
    ", resolution\n",
    ", resolutiondate\n",
    ", servicenotes\n",
    ", ward\n",
    ", longitude\n",
    ", latitude\n",
    "from EDW_CIRM.VW_SERVICE_REQUESTS_DC_MSSQL\n",
    "where serviceorderdate >= TO_DATE('2015-08-01', 'yyyy-mm-dd')\n",
    "and resolutiondate < TO_DATE(\\''''+date+'''\\', 'yyyy-mm-dd')\n",
    "and (servicecodedescription = 'Rat Abatement'\n",
    "or servicecodedescription = 'Rodent Inspection and Treatment')\n",
    "and longitude is not null and latitude is not null\n",
    "and cast(longitude as float) < 0 and cast(latitude as float) > 0\n",
    "''', dcsedwp)\n",
    "print('Finished pulling data at '+time.strftime(\"%a, %d %b %Y %H:%M:%S +0000\", time.localtime())) "
   ]
  },
  {
   "cell_type": "code",
   "execution_count": 9,
   "metadata": {
    "collapsed": true
   },
   "outputs": [],
   "source": [
    "def outcome(x):\n",
    "    if x is None:\n",
    "        return None\n",
    "    elif 'baited' in x.lower():\n",
    "        return 1\n",
    "    elif 'treatment' in x.lower():\n",
    "        return 1\n",
    "    elif 'treated' in x.lower():\n",
    "        return 1\n",
    "    elif 'found rat burrows' in x.lower():\n",
    "        return 1\n",
    "    elif 'found mice' in x.lower():\n",
    "        return 0\n",
    "    elif 'found mice in home' in x.lower():\n",
    "        return 0\n",
    "    elif 'no evidence' in x.lower():\n",
    "        return 0\n",
    "    elif 'no rat' in x.lower():\n",
    "        return 0\n",
    "    elif 'no rats' in x.lower():\n",
    "        return 0\n",
    "    elif 'no rat burrow' in x.lower():\n",
    "        return 0\n",
    "    elif 'no rat burrows' in x.lower():\n",
    "        return 0\n",
    "    elif 'no rat burrows' in x.lower():\n",
    "        return 0\n",
    "    elif 'no rats burrows' in x.lower():\n",
    "        return 0\n",
    "    elif 'no rat holes' in x.lower():\n",
    "        return 0\n",
    "    elif 'no burrows' in x.lower():\n",
    "        return 0\n",
    "    elif 'no rat activity' in x.lower():\n",
    "        return 0\n",
    "    elif 'no rodent activity' in x.lower():\n",
    "        return 0\n",
    "    elif 'no activity' in x.lower():\n",
    "        return 0\n",
    "    elif 'no visible' in x.lower():\n",
    "        return 0\n",
    "    elif 'gate locked' in x.lower():\n",
    "        return 0\n",
    "    elif 'fenced and no permission' in x.lower():\n",
    "        return 0\n",
    "    elif 'no access' in x.lower():\n",
    "        return 0"
   ]
  },
  {
   "cell_type": "code",
   "execution_count": 10,
   "metadata": {
    "collapsed": true
   },
   "outputs": [],
   "source": [
    "rats['week'] = pd.to_datetime(rats.SERVICEORDERDATE).dt.week\n",
    "rats['year'] = pd.to_datetime(rats.SERVICEORDERDATE).dt.year\n",
    "rats['month'] = pd.to_datetime(rats.SERVICEORDERDATE).dt.month"
   ]
  },
  {
   "cell_type": "code",
   "execution_count": 11,
   "metadata": {
    "collapsed": true
   },
   "outputs": [],
   "source": [
    "rats['calls'] = 1\n",
    "rats['activity'] = rats['SERVICENOTES'].apply(outcome)\n",
    "closed = rats[rats['SERVICEORDERSTATUS']=='Closed']\n",
    "closed = closed[closed.SERVICENOTES.isnull()==False]"
   ]
  },
  {
   "cell_type": "code",
   "execution_count": 12,
   "metadata": {},
   "outputs": [
    {
     "data": {
      "text/plain": [
       "0.45542744656917883"
      ]
     },
     "execution_count": 12,
     "metadata": {},
     "output_type": "execute_result"
    }
   ],
   "source": [
    "closed[pd.to_datetime(closed.SERVICEORDERDATE) < pd.to_datetime('2017-9-01')].activity.mean()"
   ]
  },
  {
   "cell_type": "markdown",
   "metadata": {},
   "source": [
    "## Match 311 Rodent Data to Census Blocks"
   ]
  },
  {
   "cell_type": "code",
   "execution_count": 13,
   "metadata": {
    "collapsed": true
   },
   "outputs": [],
   "source": [
    "## Create geometry for 311 data\n",
    "geometry = [Point(xy) for xy in zip(closed.LONGITUDE.apply(float), closed.LATITUDE.apply(float))]\n",
    "crs = {'init': 'epsg:4326'}\n",
    "points = gpd.GeoDataFrame(closed, crs=crs, geometry=geometry)\n",
    "\n",
    "## Join rats data to Census blocks\n",
    "geo_rats = gpd.sjoin(blocks, points, how='left', op='intersects')"
   ]
  },
  {
   "cell_type": "code",
   "execution_count": 15,
   "metadata": {
    "collapsed": true
   },
   "outputs": [],
   "source": [
    "geo_rats.set_index('GEOID').to_csv('data/rats_to_blocks.csv.gz', compression = 'gzip')"
   ]
  }
 ],
 "metadata": {
  "anaconda-cloud": {},
  "kernelspec": {
   "display_name": "Python 3",
   "language": "python",
   "name": "python3"
  },
  "language_info": {
   "codemirror_mode": {
    "name": "ipython",
    "version": 3
   },
   "file_extension": ".py",
   "mimetype": "text/x-python",
   "name": "python",
   "nbconvert_exporter": "python",
   "pygments_lexer": "ipython3",
   "version": "3.7.0"
  }
 },
 "nbformat": 4,
 "nbformat_minor": 1
}
